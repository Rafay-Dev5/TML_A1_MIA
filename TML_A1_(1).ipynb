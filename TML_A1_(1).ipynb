{
  "nbformat": 4,
  "nbformat_minor": 0,
  "metadata": {
    "colab": {
      "provenance": [],
      "gpuType": "T4"
    },
    "kernelspec": {
      "name": "python3",
      "display_name": "Python 3"
    },
    "language_info": {
      "name": "python"
    },
    "accelerator": "GPU"
  },
  "cells": [
    {
      "cell_type": "code",
      "source": [],
      "metadata": {
        "id": "OSJY0TRsdMoD"
      },
      "execution_count": null,
      "outputs": []
    },
    {
      "cell_type": "code",
      "source": [
        "import torch\n",
        "from torch.utils.data import Dataset\n",
        "from typing import Tuple\n",
        "import numpy as np\n",
        "import requests\n",
        "import pandas as pd\n",
        "\n",
        "\n",
        "import torch.nn as nn\n",
        "from torch.utils.data import DataLoader\n",
        "import numpy as np\n",
        "\n",
        "import matplotlib.pyplot as plt\n",
        "import matplotlib\n",
        "\n",
        "%matplotlib inline\n",
        "%config InlineBackend.figure_format = 'svg'"
      ],
      "metadata": {
        "id": "-6QIewKNOQmg"
      },
      "execution_count": null,
      "outputs": []
    },
    {
      "cell_type": "code",
      "source": [
        "import gdown\n",
        "\n",
        "pub_id = '1OLZsYJteuUpnQnSoZTHC617zmSRPsSK0'\n",
        "priv_id = '1wGNkKdKRn2ZpQ-GtP3l8UCpNHUWBgHyN'\n",
        "model_id = '1-rFEKopl4PZ4e3FR_dKcLbO_Y4pXOgLo'\n",
        "\n",
        "\n",
        "gdown.download(f'https://drive.google.com/uc?id={pub_id}', 'pub.pt', quiet=False)\n",
        "gdown.download(f'https://drive.google.com/uc?id={priv_id}', 'priv.pt', quiet=False)\n",
        "gdown.download(f'https://drive.google.com/uc?id={model_id}', 'model.pt', quiet=False)"
      ],
      "metadata": {
        "colab": {
          "base_uri": "https://localhost:8080/",
          "height": 316
        },
        "id": "VSHGFwYnc4cK",
        "outputId": "b4cb1242-4942-4d35-9d43-961459072f4b"
      },
      "execution_count": null,
      "outputs": [
        {
          "output_type": "stream",
          "name": "stderr",
          "text": [
            "Downloading...\n",
            "From (original): https://drive.google.com/uc?id=1OLZsYJteuUpnQnSoZTHC617zmSRPsSK0\n",
            "From (redirected): https://drive.google.com/uc?id=1OLZsYJteuUpnQnSoZTHC617zmSRPsSK0&confirm=t&uuid=d7dfc07b-6c7a-440f-a68b-0488f3bccfa7\n",
            "To: /content/pub.pt\n",
            "100%|██████████| 250M/250M [00:03<00:00, 64.3MB/s]\n",
            "Downloading...\n",
            "From (original): https://drive.google.com/uc?id=1wGNkKdKRn2ZpQ-GtP3l8UCpNHUWBgHyN\n",
            "From (redirected): https://drive.google.com/uc?id=1wGNkKdKRn2ZpQ-GtP3l8UCpNHUWBgHyN&confirm=t&uuid=5cac18a2-8421-40a9-99d5-42f7f2a9172e\n",
            "To: /content/priv.pt\n",
            "100%|██████████| 251M/251M [00:02<00:00, 105MB/s]\n",
            "Downloading...\n",
            "From (original): https://drive.google.com/uc?id=1-rFEKopl4PZ4e3FR_dKcLbO_Y4pXOgLo\n",
            "From (redirected): https://drive.google.com/uc?id=1-rFEKopl4PZ4e3FR_dKcLbO_Y4pXOgLo&confirm=t&uuid=61326249-95c4-41a1-a34a-9f63c6bf9803\n",
            "To: /content/model.pt\n",
            "100%|██████████| 44.9M/44.9M [00:01<00:00, 37.2MB/s]\n"
          ]
        },
        {
          "output_type": "execute_result",
          "data": {
            "text/plain": [
              "'model.pt'"
            ],
            "application/vnd.google.colaboratory.intrinsic+json": {
              "type": "string"
            }
          },
          "metadata": {},
          "execution_count": 2
        }
      ]
    },
    {
      "cell_type": "code",
      "source": [
        "\n",
        "#### LOADING THE MODEL\n",
        "\n",
        "from torchvision.models import resnet18\n",
        "\n",
        "model = resnet18(pretrained=False)\n",
        "model.fc = torch.nn.Linear(512, 44)\n",
        "\n",
        "ckpt = torch.load(\"/content/model.pt\", map_location=\"cpu\")\n",
        "\n",
        "model.load_state_dict(ckpt)"
      ],
      "metadata": {
        "id": "jBbrydjIOTO4",
        "colab": {
          "base_uri": "https://localhost:8080/"
        },
        "outputId": "50419b2b-f1a5-40f8-cb34-b4ea76f2f3a5"
      },
      "execution_count": null,
      "outputs": [
        {
          "output_type": "stream",
          "name": "stderr",
          "text": [
            "/usr/local/lib/python3.10/dist-packages/torchvision/models/_utils.py:208: UserWarning: The parameter 'pretrained' is deprecated since 0.13 and may be removed in the future, please use 'weights' instead.\n",
            "  warnings.warn(\n",
            "/usr/local/lib/python3.10/dist-packages/torchvision/models/_utils.py:223: UserWarning: Arguments other than a weight enum or `None` for 'weights' are deprecated since 0.13 and may be removed in the future. The current behavior is equivalent to passing `weights=None`.\n",
            "  warnings.warn(msg)\n"
          ]
        },
        {
          "output_type": "execute_result",
          "data": {
            "text/plain": [
              "<All keys matched successfully>"
            ]
          },
          "metadata": {},
          "execution_count": 3
        }
      ]
    },
    {
      "cell_type": "code",
      "execution_count": null,
      "metadata": {
        "id": "8ORRbIfcOKo2"
      },
      "outputs": [],
      "source": [
        "\n",
        "#### DATASETS\n",
        "\n",
        "class TaskDataset(Dataset):\n",
        "    def __init__(self, transform=None):\n",
        "\n",
        "        self.ids = []\n",
        "        self.imgs = []\n",
        "        self.labels = []\n",
        "\n",
        "        self.transform = transform\n",
        "\n",
        "    def __getitem__(self, index) -> Tuple[int, torch.Tensor, int]:\n",
        "        id_ = self.ids[index]\n",
        "        img = self.imgs[index]\n",
        "        if not self.transform is None:\n",
        "            img = self.transform(img)\n",
        "        label = self.labels[index]\n",
        "        return id_, img, label\n",
        "\n",
        "    def __len__(self):\n",
        "        return len(self.ids)\n",
        "\n",
        "\n",
        "class MembershipDataset(TaskDataset):\n",
        "    def __init__(self, transform=None):\n",
        "        super().__init__(transform)\n",
        "        self.membership = []\n",
        "\n",
        "    def __getitem__(self, index) -> Tuple[int, torch.Tensor, int, int]:\n",
        "        id_, img, label = super().__getitem__(index)\n",
        "        return id_, img, label, self.membership[index]\n",
        "\n",
        "\n",
        "privData: MembershipDataset = torch.load(\"/content/priv.pt\")\n",
        "pubData: MembershipDataset = torch.load(\"/content/pub.pt\")"
      ]
    },
    {
      "cell_type": "code",
      "source": [
        "# Ignore the membership feature\n",
        "def custom_collate(batch):\n",
        "    batch = [(item[0], item[1], item[2]) for item in batch]\n",
        "    return torch.utils.data.dataloader.default_collate(batch)"
      ],
      "metadata": {
        "id": "0tDso7Molvbc"
      },
      "execution_count": null,
      "outputs": []
    },
    {
      "cell_type": "code",
      "source": [
        "import torch\n",
        "from torchvision import transforms\n",
        "\n",
        "class NormalizedDataset(torch.utils.data.Dataset):\n",
        "    def __init__(self, dataset):\n",
        "        self.dataset = dataset\n",
        "        self.normalize = transforms.Normalize(mean=[0.298, 0.2962, 0.2987], std=[0.2886, 0.2875, 0.2889])\n",
        "\n",
        "        self.ids = dataset.ids\n",
        "        self.imgs = []\n",
        "        self.labels = dataset.labels\n",
        "        self.membership = dataset.membership\n",
        "\n",
        "        self.normalize_images()\n",
        "\n",
        "    def normalize_images(self):\n",
        "\n",
        "        for id_, img, label, membership in self.dataset:\n",
        "            img_normalized = self.normalize(img)\n",
        "            self.imgs.append(img_normalized)\n",
        "\n",
        "    def __len__(self):\n",
        "        return len(self.dataset)\n",
        "\n",
        "    def __getitem__(self, idx):\n",
        "        id_, img, label, membership = self.dataset[idx]\n",
        "        img = self.imgs[idx]\n",
        "        return id_, img, label, membership\n",
        "\n",
        "\n",
        "privData = NormalizedDataset(privData)\n",
        "pubData = NormalizedDataset(pubData)"
      ],
      "metadata": {
        "id": "hyqyrRSppoXm"
      },
      "execution_count": null,
      "outputs": []
    },
    {
      "cell_type": "code",
      "source": [
        "member_images = []\n",
        "non_member_images = []\n",
        "\n",
        "for id_, image, label, membership in pubData:\n",
        "    if membership == 1:\n",
        "        member_images.append((id_, image, label, 1))\n",
        "    elif membership == 0:\n",
        "        non_member_images.append((id_, image, label, 0))\n",
        "\n",
        "memberData = MembershipDataset()\n",
        "memberData.ids, memberData.imgs, memberData.labels, memberData.membership = zip(*member_images)\n",
        "\n",
        "nonMemberData = MembershipDataset()\n",
        "nonMemberData.ids, nonMemberData.imgs, nonMemberData.labels, nonMemberData.membership = zip(*non_member_images)"
      ],
      "metadata": {
        "id": "_BddTrs-tI2-"
      },
      "execution_count": null,
      "outputs": []
    },
    {
      "cell_type": "code",
      "source": [
        "device = torch.device(\"cuda\" if torch.cuda.is_available() else \"cpu\")"
      ],
      "metadata": {
        "id": "-Zcj_FREYi-Q"
      },
      "execution_count": null,
      "outputs": []
    },
    {
      "cell_type": "code",
      "source": [
        "def evaluateModel(dataset, model, isPriv):\n",
        "\n",
        "\n",
        "    model.eval()\n",
        "    model.to(device)\n",
        "\n",
        "    correct = 0\n",
        "    total = 0\n",
        "\n",
        "    if isPriv:\n",
        "      data_loader = DataLoader(dataset, batch_size=32, shuffle=False, collate_fn=custom_collate)\n",
        "\n",
        "\n",
        "      with torch.no_grad():\n",
        "        for _, images, labels in data_loader:\n",
        "\n",
        "            images, labels = images.to(device), labels.to(device)\n",
        "\n",
        "            outputs = model(images)\n",
        "\n",
        "            _, predicted = torch.max(outputs.data, 1)\n",
        "\n",
        "            total += labels.size(0)\n",
        "\n",
        "            correct += (predicted == labels).sum().item()\n",
        "    else:\n",
        "      data_loader = DataLoader(dataset, batch_size=32, shuffle=False)\n",
        "\n",
        "      with torch.no_grad():\n",
        "        for _, images, labels,_ in data_loader:\n",
        "\n",
        "            images, labels = images.to(device), labels.to(device)\n",
        "\n",
        "            outputs = model(images)\n",
        "\n",
        "            _, predicted = torch.max(outputs.data, 1)\n",
        "\n",
        "            total += labels.size(0)\n",
        "\n",
        "            correct += (predicted == labels).sum().item()\n",
        "\n",
        "    accuracy = correct / total\n",
        "\n",
        "    print(f'Accuracy on privData: {accuracy:.2%}')\n"
      ],
      "metadata": {
        "id": "1ZiLwWFWiexy"
      },
      "execution_count": null,
      "outputs": []
    },
    {
      "cell_type": "code",
      "source": [
        "def initialize_shadow_model(num_classes=44):\n",
        "    shadow_model = resnet18(pretrained=False)\n",
        "    shadow_model.fc = nn.Linear(512, num_classes)\n",
        "    return shadow_model.to(device)"
      ],
      "metadata": {
        "id": "AiuHXgE5aYyr"
      },
      "execution_count": null,
      "outputs": []
    },
    {
      "cell_type": "code",
      "source": [
        "def train_model(model, data_loader, epochs=20):\n",
        "    optimizer = torch.optim.Adam(model.parameters(), lr=0.001)\n",
        "    criterion = torch.nn.CrossEntropyLoss()\n",
        "    model.train()\n",
        "    for epoch in range(epochs):\n",
        "        for _, images, labels, _ in data_loader:\n",
        "            images, labels = images.to(device), labels.to(device)\n",
        "            optimizer.zero_grad()\n",
        "            outputs = model(images)\n",
        "            loss = criterion(outputs, labels)\n",
        "            loss.backward()\n",
        "            optimizer.step()\n",
        "        print(f\"Epoch {epoch+1}, Loss: {loss.item()}\")\n",
        "        evaluateModel(memberData, member_shadow_model, False)"
      ],
      "metadata": {
        "id": "cGKG1rtRbUmN"
      },
      "execution_count": null,
      "outputs": []
    },
    {
      "cell_type": "code",
      "source": [
        "numModels=5\n",
        "models = []\n",
        "for i in range(numModels):\n",
        "  member_shadow_model = initialize_shadow_model()\n",
        "  member_loader = DataLoader(memberData, batch_size=64, shuffle=True)\n",
        "  train_model(member_shadow_model, member_loader)\n",
        "\n",
        "  models.append(member_shadow_model)\n"
      ],
      "metadata": {
        "colab": {
          "base_uri": "https://localhost:8080/"
        },
        "id": "Rt0jWs3qaK1k",
        "outputId": "6c61b2ff-2d63-446e-c7b1-753f25d0a4e6"
      },
      "execution_count": null,
      "outputs": [
        {
          "output_type": "stream",
          "name": "stdout",
          "text": [
            "Epoch 1, Loss: 2.811387062072754\n",
            "Accuracy on privData: 44.78%\n",
            "Epoch 2, Loss: 1.0640230178833008\n",
            "Accuracy on privData: 47.95%\n",
            "Epoch 3, Loss: 1.2688685655593872\n",
            "Accuracy on privData: 51.74%\n",
            "Epoch 4, Loss: 0.9406952857971191\n",
            "Accuracy on privData: 55.87%\n",
            "Epoch 5, Loss: 1.0398545265197754\n",
            "Accuracy on privData: 60.16%\n",
            "Epoch 6, Loss: 1.484991192817688\n",
            "Accuracy on privData: 62.35%\n",
            "Epoch 7, Loss: 1.322201132774353\n",
            "Accuracy on privData: 63.93%\n",
            "Epoch 8, Loss: 1.442322015762329\n",
            "Accuracy on privData: 67.40%\n",
            "Epoch 9, Loss: 0.5353475213050842\n",
            "Accuracy on privData: 66.01%\n",
            "Epoch 10, Loss: 1.3168702125549316\n",
            "Accuracy on privData: 68.72%\n",
            "Epoch 11, Loss: 0.9807019829750061\n",
            "Accuracy on privData: 70.75%\n",
            "Epoch 12, Loss: 0.8567749261856079\n",
            "Accuracy on privData: 70.81%\n",
            "Epoch 13, Loss: 0.8695420026779175\n",
            "Accuracy on privData: 71.63%\n",
            "Epoch 14, Loss: 0.8971313238143921\n",
            "Accuracy on privData: 75.67%\n",
            "Epoch 15, Loss: 0.37715262174606323\n",
            "Accuracy on privData: 78.34%\n",
            "Epoch 16, Loss: 0.8136234879493713\n",
            "Accuracy on privData: 81.12%\n",
            "Epoch 17, Loss: 0.6736570000648499\n",
            "Accuracy on privData: 79.04%\n",
            "Epoch 18, Loss: 0.5542339086532593\n",
            "Accuracy on privData: 83.96%\n",
            "Epoch 19, Loss: 0.530144453048706\n",
            "Accuracy on privData: 86.24%\n",
            "Epoch 20, Loss: 0.3573978841304779\n",
            "Accuracy on privData: 86.22%\n",
            "Epoch 1, Loss: 2.031630516052246\n",
            "Accuracy on privData: 39.41%\n",
            "Epoch 2, Loss: 1.2577998638153076\n",
            "Accuracy on privData: 47.93%\n",
            "Epoch 3, Loss: 1.0841500759124756\n",
            "Accuracy on privData: 51.58%\n",
            "Epoch 4, Loss: 1.3946212530136108\n",
            "Accuracy on privData: 55.04%\n",
            "Epoch 5, Loss: 1.3339087963104248\n",
            "Accuracy on privData: 53.16%\n",
            "Epoch 6, Loss: 1.3383934497833252\n",
            "Accuracy on privData: 60.49%\n",
            "Epoch 7, Loss: 0.9691644310951233\n",
            "Accuracy on privData: 62.89%\n",
            "Epoch 8, Loss: 0.7866863012313843\n",
            "Accuracy on privData: 63.68%\n",
            "Epoch 9, Loss: 0.663670539855957\n",
            "Accuracy on privData: 67.37%\n",
            "Epoch 10, Loss: 0.9785829186439514\n",
            "Accuracy on privData: 70.74%\n",
            "Epoch 11, Loss: 0.5161116123199463\n",
            "Accuracy on privData: 71.78%\n",
            "Epoch 12, Loss: 0.706063985824585\n",
            "Accuracy on privData: 72.45%\n",
            "Epoch 13, Loss: 0.6371402144432068\n",
            "Accuracy on privData: 75.39%\n",
            "Epoch 14, Loss: 0.833634614944458\n",
            "Accuracy on privData: 75.98%\n",
            "Epoch 15, Loss: 0.7513954639434814\n",
            "Accuracy on privData: 78.83%\n",
            "Epoch 16, Loss: 0.09082522243261337\n",
            "Accuracy on privData: 80.76%\n",
            "Epoch 17, Loss: 0.3709944784641266\n",
            "Accuracy on privData: 84.38%\n",
            "Epoch 18, Loss: 0.41826894879341125\n",
            "Accuracy on privData: 85.56%\n",
            "Epoch 19, Loss: 0.7087181210517883\n",
            "Accuracy on privData: 85.61%\n",
            "Epoch 20, Loss: 0.734679639339447\n",
            "Accuracy on privData: 88.47%\n",
            "Epoch 1, Loss: 2.58479642868042\n",
            "Accuracy on privData: 41.54%\n",
            "Epoch 2, Loss: 1.6753712892532349\n",
            "Accuracy on privData: 44.17%\n",
            "Epoch 3, Loss: 1.5671308040618896\n",
            "Accuracy on privData: 46.87%\n",
            "Epoch 4, Loss: 1.2120145559310913\n",
            "Accuracy on privData: 54.91%\n",
            "Epoch 5, Loss: 0.836452305316925\n",
            "Accuracy on privData: 60.28%\n",
            "Epoch 6, Loss: 1.3270522356033325\n",
            "Accuracy on privData: 58.73%\n",
            "Epoch 7, Loss: 0.9736959338188171\n",
            "Accuracy on privData: 61.56%\n",
            "Epoch 8, Loss: 0.8302568793296814\n",
            "Accuracy on privData: 63.65%\n",
            "Epoch 9, Loss: 0.6435689926147461\n",
            "Accuracy on privData: 63.88%\n",
            "Epoch 10, Loss: 0.4799599349498749\n",
            "Accuracy on privData: 67.35%\n",
            "Epoch 11, Loss: 1.4620118141174316\n",
            "Accuracy on privData: 68.96%\n",
            "Epoch 12, Loss: 1.5218781232833862\n",
            "Accuracy on privData: 68.99%\n",
            "Epoch 13, Loss: 0.8266762495040894\n",
            "Accuracy on privData: 73.41%\n",
            "Epoch 14, Loss: 0.45184218883514404\n",
            "Accuracy on privData: 76.39%\n",
            "Epoch 15, Loss: 0.6534679532051086\n",
            "Accuracy on privData: 77.12%\n",
            "Epoch 16, Loss: 0.4715694785118103\n",
            "Accuracy on privData: 78.10%\n",
            "Epoch 17, Loss: 0.7327942848205566\n",
            "Accuracy on privData: 80.66%\n",
            "Epoch 18, Loss: 0.3724878132343292\n",
            "Accuracy on privData: 81.79%\n",
            "Epoch 19, Loss: 0.7707478404045105\n",
            "Accuracy on privData: 82.89%\n",
            "Epoch 20, Loss: 0.47503095865249634\n",
            "Accuracy on privData: 87.14%\n",
            "Epoch 1, Loss: 1.5499626398086548\n",
            "Accuracy on privData: 24.08%\n",
            "Epoch 2, Loss: 1.43214750289917\n",
            "Accuracy on privData: 38.10%\n",
            "Epoch 3, Loss: 0.927568793296814\n",
            "Accuracy on privData: 51.58%\n",
            "Epoch 4, Loss: 0.9910979270935059\n",
            "Accuracy on privData: 54.46%\n",
            "Epoch 5, Loss: 1.1205846071243286\n",
            "Accuracy on privData: 52.22%\n",
            "Epoch 6, Loss: 1.2834315299987793\n",
            "Accuracy on privData: 57.04%\n",
            "Epoch 7, Loss: 0.8372053503990173\n",
            "Accuracy on privData: 61.26%\n",
            "Epoch 8, Loss: 0.8574915528297424\n",
            "Accuracy on privData: 61.63%\n",
            "Epoch 9, Loss: 0.7877079248428345\n",
            "Accuracy on privData: 65.99%\n",
            "Epoch 10, Loss: 0.5787107944488525\n",
            "Accuracy on privData: 65.83%\n",
            "Epoch 11, Loss: 1.0804394483566284\n",
            "Accuracy on privData: 67.72%\n",
            "Epoch 12, Loss: 0.7697163224220276\n",
            "Accuracy on privData: 69.30%\n",
            "Epoch 13, Loss: 0.6059549450874329\n",
            "Accuracy on privData: 69.21%\n",
            "Epoch 14, Loss: 1.24122953414917\n",
            "Accuracy on privData: 72.30%\n",
            "Epoch 15, Loss: 0.7254177927970886\n",
            "Accuracy on privData: 73.60%\n",
            "Epoch 16, Loss: 0.7847820520401001\n",
            "Accuracy on privData: 74.95%\n",
            "Epoch 17, Loss: 0.5703787207603455\n",
            "Accuracy on privData: 78.34%\n",
            "Epoch 18, Loss: 0.7244811058044434\n",
            "Accuracy on privData: 78.16%\n",
            "Epoch 19, Loss: 0.5923736095428467\n",
            "Accuracy on privData: 80.17%\n",
            "Epoch 20, Loss: 0.6552084684371948\n",
            "Accuracy on privData: 80.51%\n",
            "Epoch 1, Loss: 1.3627166748046875\n",
            "Accuracy on privData: 48.13%\n",
            "Epoch 2, Loss: 1.520104169845581\n",
            "Accuracy on privData: 50.27%\n",
            "Epoch 3, Loss: 1.5088497400283813\n",
            "Accuracy on privData: 50.93%\n",
            "Epoch 4, Loss: 1.374680757522583\n",
            "Accuracy on privData: 56.14%\n",
            "Epoch 5, Loss: 1.0817410945892334\n",
            "Accuracy on privData: 61.68%\n",
            "Epoch 6, Loss: 1.1880302429199219\n",
            "Accuracy on privData: 61.05%\n",
            "Epoch 7, Loss: 1.1866551637649536\n",
            "Accuracy on privData: 61.73%\n",
            "Epoch 8, Loss: 0.7261777520179749\n",
            "Accuracy on privData: 66.45%\n",
            "Epoch 9, Loss: 1.10872220993042\n",
            "Accuracy on privData: 67.16%\n",
            "Epoch 10, Loss: 1.0128899812698364\n",
            "Accuracy on privData: 71.25%\n",
            "Epoch 11, Loss: 0.6843302845954895\n",
            "Accuracy on privData: 73.72%\n",
            "Epoch 12, Loss: 0.9793005585670471\n",
            "Accuracy on privData: 77.15%\n",
            "Epoch 13, Loss: 0.43440744280815125\n",
            "Accuracy on privData: 74.49%\n",
            "Epoch 14, Loss: 0.8590444326400757\n",
            "Accuracy on privData: 79.87%\n",
            "Epoch 15, Loss: 0.6998974084854126\n",
            "Accuracy on privData: 80.65%\n",
            "Epoch 16, Loss: 0.9933546185493469\n",
            "Accuracy on privData: 81.75%\n",
            "Epoch 17, Loss: 0.6988939046859741\n",
            "Accuracy on privData: 83.31%\n",
            "Epoch 18, Loss: 0.5922578573226929\n",
            "Accuracy on privData: 85.57%\n",
            "Epoch 19, Loss: 0.3206653594970703\n",
            "Accuracy on privData: 86.91%\n",
            "Epoch 20, Loss: 0.5969364047050476\n",
            "Accuracy on privData: 88.67%\n"
          ]
        }
      ]
    },
    {
      "cell_type": "code",
      "source": [
        "# member_shadow_model = initialize_shadow_model()\n",
        "\n",
        "# member_loader = DataLoader(memberData, batch_size=64, shuffle=True)\n",
        "\n",
        "# train_model(member_shadow_model, member_loader)"
      ],
      "metadata": {
        "id": "bXVrj7v4aeSw"
      },
      "execution_count": null,
      "outputs": []
    },
    {
      "cell_type": "code",
      "source": [
        "# evaluateModel(memberData, model, False)"
      ],
      "metadata": {
        "id": "wRGO3o7ebkwZ"
      },
      "execution_count": null,
      "outputs": []
    },
    {
      "cell_type": "code",
      "source": [
        "#Save shadow model weights\n",
        "# torch.save(models[0].state_dict(), \"shadow1.pt\")\n",
        "# torch.save(models[1].state_dict(), \"shadow2.pt\")\n",
        "# torch.save(models[2].state_dict(), \"shadow3.pt\")\n",
        "# torch.save(models[3].state_dict(), \"shadow4.pt\")\n",
        "# torch.save(models[4].state_dict(), \"shadow5.pt\")"
      ],
      "metadata": {
        "id": "0CqAxTh-EB6b"
      },
      "execution_count": null,
      "outputs": []
    },
    {
      "cell_type": "code",
      "source": [
        "evaluateModel(nonMemberData, models[0], False)"
      ],
      "metadata": {
        "colab": {
          "base_uri": "https://localhost:8080/"
        },
        "id": "mxGYqxwzb2aj",
        "outputId": "3b9055e9-8830-4c30-840d-11469bc10927"
      },
      "execution_count": null,
      "outputs": [
        {
          "output_type": "stream",
          "name": "stdout",
          "text": [
            "Accuracy on privData: 60.68%\n"
          ]
        }
      ]
    },
    {
      "cell_type": "code",
      "source": [
        "def extract_logits(dataset, model,isPriv):\n",
        "\n",
        "    model.eval()\n",
        "\n",
        "    logits_list = []\n",
        "\n",
        "    device = torch.device(\"cuda\" if torch.cuda.is_available() else \"cpu\")\n",
        "    model.to(device)\n",
        "\n",
        "    if isPriv:\n",
        "      data_loader = DataLoader(dataset, batch_size=32, shuffle=False, collate_fn=custom_collate)\n",
        "\n",
        "      with torch.no_grad():\n",
        "          for _, images, labels in data_loader:\n",
        "\n",
        "              images = images.to(device)\n",
        "\n",
        "\n",
        "              logits = model(images)\n",
        "\n",
        "              logits_np = logits.cpu().numpy()\n",
        "\n",
        "              logits_list.append(logits_np)\n",
        "\n",
        "      logits_array = np.concatenate(logits_list)\n",
        "\n",
        "      return logits_array\n",
        "\n",
        "    else:\n",
        "\n",
        "      data_loader = DataLoader(dataset, batch_size=32, shuffle=False)\n",
        "\n",
        "      with torch.no_grad():\n",
        "          for _, images, labels,_ in data_loader:\n",
        "\n",
        "              images = images.to(device)\n",
        "\n",
        "              logits = model(images)\n",
        "\n",
        "              logits_np = logits.cpu().numpy()\n",
        "\n",
        "              logits_list.append(logits_np)\n",
        "\n",
        "      logits_array = np.concatenate(logits_list)\n",
        "\n",
        "      return logits_array"
      ],
      "metadata": {
        "id": "udT1uAG6deQ0"
      },
      "execution_count": null,
      "outputs": []
    },
    {
      "cell_type": "code",
      "source": [
        "allPubLogits = []\n",
        "for mo in models:\n",
        "  pubLogits = extract_logits(pubData, mo,False)\n",
        "  allPubLogits.append(pubLogits)\n",
        "\n",
        "logits = np.concatenate([allPubLogits[0],allPubLogits[1],allPubLogits[2],allPubLogits[3],allPubLogits[4]],axis=0)"
      ],
      "metadata": {
        "id": "SoTZ4Ms1buXg"
      },
      "execution_count": null,
      "outputs": []
    },
    {
      "cell_type": "code",
      "source": [
        "logits.shape"
      ],
      "metadata": {
        "colab": {
          "base_uri": "https://localhost:8080/"
        },
        "id": "xo0--M1LegT4",
        "outputId": "b0995d22-45b7-47c0-e528-37b37e7de38a"
      },
      "execution_count": null,
      "outputs": [
        {
          "output_type": "execute_result",
          "data": {
            "text/plain": [
              "(100000, 44)"
            ]
          },
          "metadata": {},
          "execution_count": 19
        }
      ]
    },
    {
      "cell_type": "code",
      "source": [
        "membershipList = np.concatenate([pubData.membership,pubData.membership,pubData.membership,pubData.membership,pubData.membership],axis=0)\n",
        "print(membershipList.shape)\n",
        "print(len(pubData.membership))"
      ],
      "metadata": {
        "colab": {
          "base_uri": "https://localhost:8080/"
        },
        "id": "MFRNvzZRf3yb",
        "outputId": "1420bc9e-eb58-4a8d-d6e8-3f6ec282ff7d"
      },
      "execution_count": null,
      "outputs": [
        {
          "output_type": "stream",
          "name": "stdout",
          "text": [
            "(100000,)\n",
            "20000\n"
          ]
        }
      ]
    },
    {
      "cell_type": "code",
      "source": [
        "# pub_logits = extract_logits(pubData, member_shadow_model,False)"
      ],
      "metadata": {
        "id": "gZT9lYHTAx_4"
      },
      "execution_count": null,
      "outputs": []
    },
    {
      "cell_type": "code",
      "source": [
        "# pub_logits"
      ],
      "metadata": {
        "id": "qS2zWWNL1WR8"
      },
      "execution_count": null,
      "outputs": []
    },
    {
      "cell_type": "code",
      "source": [
        "# pub_logits.shape"
      ],
      "metadata": {
        "id": "t-F729RleP6e"
      },
      "execution_count": null,
      "outputs": []
    },
    {
      "cell_type": "code",
      "source": [
        "from sklearn.linear_model import LogisticRegression\n",
        "from sklearn.model_selection import train_test_split\n",
        "from sklearn.metrics import accuracy_score\n",
        "import torch.nn.functional as F\n",
        "\n",
        "membership_array = np.array(pubData.membership)\n",
        "\n",
        "# probabilities = F.softmax(torch.tensor(pub_logits), dim=1).numpy()\n",
        "\n",
        "# X_train, X_test, y_train, y_test = train_test_split(pub_logits, membership_array, test_size=0.2, random_state=42)\n",
        "X_train, X_test, y_train, y_test = train_test_split(logits, membershipList, test_size=0.2, random_state=42)\n",
        "\n",
        "log_reg_model = LogisticRegression(max_iter=1000)\n",
        "log_reg_model.fit(X_train, y_train)\n",
        "\n",
        "y_pred_proba = log_reg_model.predict_proba(X_test)[:, 1]  # Probability of class 1 (membership)\n",
        "\n",
        "y_pred = log_reg_model.predict(X_test)\n",
        "\n",
        "accuracy = accuracy_score(y_test, y_pred)\n",
        "\n",
        "print(f\"Accuracy: {accuracy:.4f}\")\n",
        "\n",
        "print(\"Predicted probabilities:\", y_pred_proba)"
      ],
      "metadata": {
        "colab": {
          "base_uri": "https://localhost:8080/"
        },
        "id": "-Igbm9VUhgR4",
        "outputId": "50a96d32-edf2-4cb4-f3ea-966ccf64f7c4"
      },
      "execution_count": null,
      "outputs": [
        {
          "output_type": "stream",
          "name": "stdout",
          "text": [
            "Accuracy: 0.5329\n",
            "Predicted probabilities: [0.4512156  0.53838541 0.48327602 ... 0.4522738  0.50330504 0.48295818]\n"
          ]
        }
      ]
    },
    {
      "cell_type": "code",
      "source": [
        "from sklearn.metrics import roc_auc_score, roc_curve\n",
        "\n",
        "# Calculate AUC score\n",
        "auc_score = roc_auc_score(y_test, y_pred_proba)\n",
        "print(\"AUC Score:\", auc_score)\n",
        "\n",
        "# Calculate ROC curve\n",
        "fpr, tpr, thresholds = roc_curve(y_test, y_pred_proba)\n",
        "\n",
        "# Find TPR at FPR = 0.05\n",
        "target_fpr = 0.05\n",
        "closest_index = np.argmin(np.abs(fpr - target_fpr))\n",
        "tpr_at_target_fpr = tpr[closest_index]\n",
        "\n",
        "print(f\"TPR at FPR = {target_fpr}: {tpr_at_target_fpr}\")"
      ],
      "metadata": {
        "colab": {
          "base_uri": "https://localhost:8080/"
        },
        "id": "NxGor2cWjjzt",
        "outputId": "5bdeacc7-348e-4830-b6a0-891c3befdc29"
      },
      "execution_count": null,
      "outputs": [
        {
          "output_type": "stream",
          "name": "stdout",
          "text": [
            "AUC Score: 0.5418909506263228\n",
            "TPR at FPR = 0.05: 0.06328600405679513\n"
          ]
        }
      ]
    },
    {
      "cell_type": "code",
      "source": [
        "from sklearn.neighbors import KNeighborsClassifier\n",
        "from sklearn.ensemble import RandomForestClassifier\n",
        "from sklearn.discriminant_analysis import LinearDiscriminantAnalysis\n",
        "from sklearn.metrics import accuracy_score, roc_auc_score, roc_curve\n",
        "from sklearn.model_selection import cross_val_score\n",
        "\n",
        "# Initialize and train KNN model\n",
        "knn_model = KNeighborsClassifier()\n",
        "knn_cv_accuracy = cross_val_score(knn_model, X_train, y_train, cv=5, scoring='accuracy').mean()\n",
        "print(\"KNN Cross-Validation Accuracy:\", knn_cv_accuracy)\n",
        "\n",
        "knn_model.fit(X_train, y_train)\n",
        "\n",
        "y_pred_proba_knn = knn_model.predict_proba(X_test)[:, 1]\n",
        "\n",
        "accuracy_knn = knn_model.score(X_test, y_test)\n",
        "print(\"KNN Accuracy:\", accuracy_knn)\n",
        "\n",
        "auc_score_knn = roc_auc_score(y_test, y_pred_proba_knn)\n",
        "print(\"KNN AUC Score:\", auc_score_knn)\n",
        "\n",
        "fpr_knn, tpr_knn, thresholds_knn = roc_curve(y_test, y_pred_proba_knn)\n",
        "\n",
        "target_fpr = 0.05\n",
        "closest_index_knn = np.argmin(np.abs(fpr_knn - target_fpr))\n",
        "tpr_at_target_fpr_knn = tpr_knn[closest_index_knn]\n",
        "print(f\"KNN TPR at FPR = {target_fpr}: {tpr_at_target_fpr_knn}\")\n",
        "\n",
        "# Initialize and train Random Forest model\n",
        "rf_model = RandomForestClassifier()\n",
        "rf_model.fit(X_train, y_train)\n",
        "\n",
        "y_pred_proba_rf = rf_model.predict_proba(X_test)[:, 1]\n",
        "\n",
        "accuracy_rf = rf_model.score(X_test, y_test)\n",
        "print(\"Random Forest Accuracy:\", accuracy_rf)\n",
        "\n",
        "auc_score_rf = roc_auc_score(y_test, y_pred_proba_rf)\n",
        "print(\"Random Forest AUC Score:\", auc_score_rf)\n",
        "\n",
        "fpr_rf, tpr_rf, thresholds_rf = roc_curve(y_test, y_pred_proba_rf)\n",
        "\n",
        "closest_index_rf = np.argmin(np.abs(fpr_rf - target_fpr))\n",
        "tpr_at_target_fpr_rf = tpr_rf[closest_index_rf]\n",
        "print(f\"Random Forest TPR at FPR = {target_fpr}: {tpr_at_target_fpr_rf}\")\n",
        "\n",
        "# Initialize and train LDA model\n",
        "lda_model = LinearDiscriminantAnalysis()\n",
        "lda_model.fit(X_train, y_train)\n",
        "\n",
        "y_pred_proba_lda = lda_model.predict_proba(X_test)[:, 1]\n",
        "\n",
        "accuracy_lda = lda_model.score(X_test, y_test)\n",
        "print(\"LDA Accuracy:\", accuracy_lda)\n",
        "\n",
        "auc_score_lda = roc_auc_score(y_test, y_pred_proba_lda)\n",
        "print(\"LDA AUC Score:\", auc_score_lda)\n",
        "\n",
        "fpr_lda, tpr_lda, thresholds_lda = roc_curve(y_test, y_pred_proba_lda)\n",
        "\n",
        "# Find TPR at FPR = 0.05\n",
        "closest_index_lda = np.argmin(np.abs(fpr_lda - target_fpr))\n",
        "tpr_at_target_fpr_lda = tpr_lda[closest_index_lda]\n",
        "print(f\"LDA TPR at FPR = {target_fpr}: {tpr_at_target_fpr_lda}\")\n"
      ],
      "metadata": {
        "colab": {
          "base_uri": "https://localhost:8080/"
        },
        "id": "_ocdIAjCHuLT",
        "outputId": "3bc045f0-2de4-40b7-9cc0-12970ae6b6ba"
      },
      "execution_count": null,
      "outputs": [
        {
          "output_type": "stream",
          "name": "stdout",
          "text": [
            "KNN Cross-Validation Accuracy: 0.5385624999999999\n",
            "KNN Accuracy: 0.5437\n",
            "KNN AUC Score: 0.5599606722917692\n",
            "KNN TPR at FPR = 0.05: 0.05354969574036511\n",
            "Random Forest Accuracy: 0.55605\n",
            "Random Forest AUC Score: 0.578261169189161\n",
            "Random Forest TPR at FPR = 0.05: 0.08924949290060852\n",
            "LDA Accuracy: 0.5331\n",
            "LDA AUC Score: 0.541954708122792\n",
            "LDA TPR at FPR = 0.05: 0.06308316430020285\n"
          ]
        }
      ]
    },
    {
      "cell_type": "code",
      "source": [
        "import torch\n",
        "import torch.nn as nn\n",
        "import torch.optim as optim\n",
        "from sklearn.metrics import accuracy_score, roc_auc_score, roc_curve\n",
        "from sklearn.model_selection import train_test_split\n",
        "\n",
        "\n",
        "class AttackNN(nn.Module):\n",
        "    def __init__(self, input_dim):\n",
        "        super(AttackNN, self).__init__()\n",
        "        self.layer1 = nn.Linear(input_dim, 64)\n",
        "        self.layer2 = nn.Linear(64, 32)\n",
        "        self.layer3 = nn.Linear(32, 1)\n",
        "        self.sigmoid = nn.Sigmoid()\n",
        "\n",
        "    def forward(self, x):\n",
        "        x = torch.relu(self.layer1(x))\n",
        "        x = torch.relu(self.layer2(x))\n",
        "        x = self.layer3(x)\n",
        "        x = self.sigmoid(x)\n",
        "        return x\n",
        "\n",
        "X_train_tensor = torch.tensor(X_train, dtype=torch.float32)\n",
        "y_train_tensor = torch.tensor(y_train, dtype=torch.float32).unsqueeze(1)\n",
        "X_test_tensor = torch.tensor(X_test, dtype=torch.float32)\n",
        "y_test_tensor = torch.tensor(y_test, dtype=torch.float32).unsqueeze(1)\n",
        "\n",
        "input_dim = X_train.shape[1]\n",
        "NNmodel = AttackNN(input_dim)\n",
        "criterion = nn.BCELoss()\n",
        "optimizer = optim.Adam(NNmodel.parameters(), lr=0.001)\n",
        "\n",
        "num_epochs = 200\n",
        "for epoch in range(num_epochs):\n",
        "    NNmodel.train()\n",
        "    optimizer.zero_grad()\n",
        "    outputs = NNmodel(X_train_tensor)\n",
        "    loss = criterion(outputs, y_train_tensor)\n",
        "    loss.backward()\n",
        "    optimizer.step()\n",
        "\n",
        "    if (epoch+1) % 10 == 0:\n",
        "        print(f'Epoch [{epoch+1}/{num_epochs}], Loss: {loss.item():.4f}')\n",
        "\n",
        "NNmodel.eval()\n",
        "with torch.no_grad():\n",
        "    y_pred_proba_nn = NNmodel(X_test_tensor).numpy().flatten()\n",
        "\n",
        "y_pred_nn = (y_pred_proba_nn > 0.5).astype(int)\n",
        "accuracy_nn = accuracy_score(y_test, y_pred_nn)\n",
        "print(f\"Neural Network Accuracy: {accuracy_nn:.4f}\")\n",
        "\n",
        "auc_score_nn = roc_auc_score(y_test, y_pred_proba_nn)\n",
        "print(f\"Neural Network AUC Score: {auc_score_nn:.4f}\")\n",
        "\n",
        "fpr_nn, tpr_nn, thresholds_nn = roc_curve(y_test, y_pred_proba_nn)\n",
        "\n",
        "target_fpr = 0.05\n",
        "closest_index_nn = np.argmin(np.abs(fpr_nn - target_fpr))\n",
        "tpr_at_target_fpr_nn = tpr_nn[closest_index_nn]\n",
        "print(f\"Neural Network TPR at FPR = {target_fpr}: {tpr_at_target_fpr_nn:.4f}\")\n"
      ],
      "metadata": {
        "colab": {
          "base_uri": "https://localhost:8080/"
        },
        "id": "w336qAICkr_B",
        "outputId": "5aff34b7-846e-4240-ef14-795a09b387dd"
      },
      "execution_count": null,
      "outputs": [
        {
          "output_type": "stream",
          "name": "stdout",
          "text": [
            "Epoch [10/200], Loss: 0.6946\n",
            "Epoch [20/200], Loss: 0.6931\n",
            "Epoch [30/200], Loss: 0.6921\n",
            "Epoch [40/200], Loss: 0.6912\n",
            "Epoch [50/200], Loss: 0.6904\n",
            "Epoch [60/200], Loss: 0.6895\n",
            "Epoch [70/200], Loss: 0.6886\n",
            "Epoch [80/200], Loss: 0.6876\n",
            "Epoch [90/200], Loss: 0.6866\n",
            "Epoch [100/200], Loss: 0.6855\n",
            "Epoch [110/200], Loss: 0.6846\n",
            "Epoch [120/200], Loss: 0.6836\n",
            "Epoch [130/200], Loss: 0.6826\n",
            "Epoch [140/200], Loss: 0.6817\n",
            "Epoch [150/200], Loss: 0.6806\n",
            "Epoch [160/200], Loss: 0.6797\n",
            "Epoch [170/200], Loss: 0.6788\n",
            "Epoch [180/200], Loss: 0.6778\n",
            "Epoch [190/200], Loss: 0.6772\n",
            "Epoch [200/200], Loss: 0.6762\n",
            "Neural Network Accuracy: 0.5551\n",
            "Neural Network AUC Score: 0.5837\n",
            "Neural Network TPR at FPR = 0.05: 0.0904\n"
          ]
        }
      ]
    },
    {
      "cell_type": "code",
      "source": [
        "priv_logits = extract_logits(privData, model,True)"
      ],
      "metadata": {
        "id": "f1QkyVpxk-tt"
      },
      "execution_count": null,
      "outputs": []
    },
    {
      "cell_type": "code",
      "source": [
        "priv_logits"
      ],
      "metadata": {
        "colab": {
          "base_uri": "https://localhost:8080/"
        },
        "id": "qEuaVgUiBPYq",
        "outputId": "58154864-4add-42ca-f373-fc080a749ca7"
      },
      "execution_count": null,
      "outputs": [
        {
          "output_type": "execute_result",
          "data": {
            "text/plain": [
              "array([[-20.503178 ,  -9.192432 ,  -2.731459 , ..., -17.683952 ,\n",
              "        -18.533136 , -23.640701 ],\n",
              "       [-19.986586 ,  -7.2347794,  -4.976416 , ..., -16.598358 ,\n",
              "        -17.221487 , -18.416847 ],\n",
              "       [-11.773463 , -15.171167 , -11.9648485, ..., -12.894601 ,\n",
              "        -15.651463 , -11.394891 ],\n",
              "       ...,\n",
              "       [ -6.6044464,  -8.0064   , -18.3869   , ...,   8.628861 ,\n",
              "        -17.67     , -16.866112 ],\n",
              "       [-13.685062 , -18.500702 , -25.551348 , ...,   4.6387224,\n",
              "        -17.442503 , -18.056301 ],\n",
              "       [ -9.8048525, -12.730086 , -22.050993 , ...,   2.183865 ,\n",
              "        -18.27964  , -16.122305 ]], dtype=float32)"
            ]
          },
          "metadata": {},
          "execution_count": 29
        }
      ]
    },
    {
      "cell_type": "code",
      "source": [
        "# Predict membership probabilities\n",
        "# Extracting for random forest\n",
        "priv_scores1 = rf_model.predict_proba(priv_logits)[:, 1]\n",
        "\n",
        "#Extracting for Logistic Regression\n",
        "priv_scores2 = log_reg_model.predict_proba(priv_logits)[:, 1]\n",
        "\n",
        "#Extracting for LDA\n",
        "priv_scores3 = lda_model.predict_proba(priv_logits)[:, 1]\n",
        "\n",
        "\n",
        "#Extracting for NN\n",
        "NNmodel.eval()\n",
        "with torch.no_grad():\n",
        "    priv_scores4 = NNmodel(X_test_tensor).numpy().flatten()"
      ],
      "metadata": {
        "id": "aqNkX7HZ6lgh"
      },
      "execution_count": null,
      "outputs": []
    },
    {
      "cell_type": "code",
      "source": [
        "priv_scores1"
      ],
      "metadata": {
        "colab": {
          "base_uri": "https://localhost:8080/"
        },
        "id": "D0lYAhKgBxzt",
        "outputId": "39783442-f50b-4812-8eb5-694502a3b656"
      },
      "execution_count": null,
      "outputs": [
        {
          "output_type": "execute_result",
          "data": {
            "text/plain": [
              "array([0.5 , 0.53, 0.63, ..., 0.58, 0.57, 0.54])"
            ]
          },
          "metadata": {},
          "execution_count": 34
        }
      ]
    },
    {
      "cell_type": "code",
      "source": [
        "\n",
        "#### EXAMPLE SUBMISSION\n",
        "\n",
        "df = pd.DataFrame(\n",
        "    {\n",
        "        \"ids\": privData.ids,\n",
        "        \"score\": priv_scores2,\n",
        "    }\n",
        ")\n",
        "df.to_csv(\"check14.csv\", index=None)"
      ],
      "metadata": {
        "id": "x9T3lOp6OaaE"
      },
      "execution_count": null,
      "outputs": []
    },
    {
      "cell_type": "code",
      "source": [
        "import requests\n",
        "\n",
        "response = requests.post(\"http://34.71.138.79:9090/mia\", files={\"file\": open(\"check14.csv\", \"rb\")}, headers={\"token\": \"76282151\"})\n",
        "print(response.json())"
      ],
      "metadata": {
        "id": "3rf6kqExJQ35",
        "colab": {
          "base_uri": "https://localhost:8080/"
        },
        "outputId": "1892ba16-d5e1-4179-bad2-25cdbfcda319"
      },
      "execution_count": null,
      "outputs": [
        {
          "output_type": "stream",
          "name": "stdout",
          "text": [
            "{'detail': 'Exceeded submissions. Only 1/h allowed.'}\n"
          ]
        }
      ]
    },
    {
      "cell_type": "code",
      "source": [],
      "metadata": {
        "id": "8YJ6ARxqIpZP"
      },
      "execution_count": null,
      "outputs": []
    }
  ]
}